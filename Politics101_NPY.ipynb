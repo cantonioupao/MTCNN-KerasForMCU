{
 "cells": [
  {
   "cell_type": "markdown",
   "metadata": {},
   "source": [
    "# Make the NPY file for Politics 101"
   ]
  },
  {
   "cell_type": "code",
   "execution_count": 3,
   "metadata": {},
   "outputs": [
    {
     "name": "stderr",
     "output_type": "stream",
     "text": [
      "100%|██████████████████████████████████████████████████████████████████████████████████| 46/46 [00:00<00:00, 53.98it/s]\n",
      "100%|██████████████████████████████████████████████████████████████████████████████████| 49/49 [00:00<00:00, 99.53it/s]\n",
      "100%|█████████████████████████████████████████████████████████████████████████████████| 25/25 [00:00<00:00, 131.64it/s]\n",
      " 24%|███████████████████▊                                                             | 11/45 [00:00<00:00, 103.74it/s]"
     ]
    },
    {
     "name": "stdout",
     "output_type": "stream",
     "text": [
      "could not find csv file\n",
      "could not find csv file\n"
     ]
    },
    {
     "name": "stderr",
     "output_type": "stream",
     "text": [
      "100%|█████████████████████████████████████████████████████████████████████████████████| 45/45 [00:00<00:00, 112.55it/s]\n",
      "100%|██████████████████████████████████████████████████████████████████████████████████| 52/52 [00:01<00:00, 51.71it/s]\n",
      "100%|██████████████████████████████████████████████████████████████████████████████████| 22/22 [00:00<00:00, 62.72it/s]\n",
      "100%|█████████████████████████████████████████████████████████████████████████████████| 46/46 [00:00<00:00, 102.45it/s]\n",
      "100%|██████████████████████████████████████████████████████████████████████████████████| 41/41 [00:00<00:00, 92.94it/s]\n",
      " 27%|██████████████████████▋                                                            | 9/33 [00:00<00:00, 78.92it/s]"
     ]
    },
    {
     "name": "stdout",
     "output_type": "stream",
     "text": [
      "could not find csv file\n"
     ]
    },
    {
     "name": "stderr",
     "output_type": "stream",
     "text": [
      "100%|█████████████████████████████████████████████████████████████████████████████████| 33/33 [00:00<00:00, 106.65it/s]\n",
      "100%|██████████████████████████████████████████████████████████████████████████████████| 53/53 [00:00<00:00, 86.44it/s]\n"
     ]
    },
    {
     "name": "stdout",
     "output_type": "stream",
     "text": [
      "(412, 5)\n",
      "46 141 12 193\n"
     ]
    }
   ],
   "source": [
    "#image_from_csv Generator\n",
    "import sklearn\n",
    "import os\n",
    "import pandas as pd\n",
    "import numpy as np\n",
    "\n",
    "##########################\n",
    "####DEFINE IMAGE SIZE#####\n",
    "##########################\n",
    "NEW_H ,NEW_W = (320,320)\n",
    "\n",
    "directory = \"D:/Desktop/Facial-Recognition/Face-Detection/Politics 101/\"\n",
    "classes_ = []\n",
    "left_ = []\n",
    "top_ = []\n",
    "width_ = []\n",
    "height_ = []\n",
    "confidence_ = []\n",
    "arrays_ = []\n",
    "for folders in os.listdir(directory):\n",
    "    folder_path = os.path.join(directory,folders)\n",
    "    csv_path = folder_path+\"/\"+folders+\".csv\"\n",
    "\n",
    "    try :\n",
    "        csv_file = pd.read_csv(csv_path)\n",
    "        extract_file(csv_file,folder_path,folders, NEW_H,NEW_W)\n",
    "    except:\n",
    "        print(\"could not find csv file\") #skip until we find the file\n",
    "\n",
    "cl =np.array(classes_)\n",
    "le=np.array(left_)\n",
    "to = np.array(top_)\n",
    "wi =np.array(width_)\n",
    "he =np.array(height_)\n",
    "co =np.array(confidence_)\n",
    "ar=np.array(arrays_)\n",
    "\n",
    "\n",
    "#Construct the npy ready arrays\n",
    "labels = np.column_stack((le,to,wi,he,co))\n",
    "print(labels.shape)\n",
    "#add also cl if we want to perform classification\n",
    "images = ar\n",
    "\n",
    "'Save as npy files'\n",
    "np.save(\"labels.npy\",labels)\n",
    "np.save(\"images.npy\",images)\n",
    "\n",
    "\n",
    "\n",
    "'''Test if the extraction works'''\n",
    "array_im = images[11]\n",
    "xmin = labels[11][0]\n",
    "xmax = labels[11][0]+labels[11][2]\n",
    "ymin = labels[11][1]\n",
    "ymax = labels[11][1]+labels[11][3]\n",
    "print(xmin,xmax,ymin,ymax)\n",
    "cv2.rectangle(array_im,(xmin,ymin),(xmax,ymax),(255,0,0),2)\n",
    "cv2.imshow(\"test\",array_im)\n",
    "cv2.waitKey(0)\n",
    "cv2.destroyAllWindows()"
   ]
  },
  {
   "cell_type": "code",
   "execution_count": 2,
   "metadata": {},
   "outputs": [],
   "source": [
    "from tqdm import tqdm\n",
    "import cv2\n",
    "\n",
    "\n",
    "def resize(pic, o_w, o_h , n_w, n_h , left,top,width,height):\n",
    "    ratio_w = n_w/o_w\n",
    "    ratio_h = n_h/o_h\n",
    "    nleft =int(left*ratio_w)\n",
    "    ntop = int(top*ratio_h)\n",
    "    \n",
    "    nwidth = int(width*ratio_w)\n",
    "    nheight = int(height*ratio_h)\n",
    "    pic =  cv2.resize(pic, (n_w,n_h))\n",
    "    return pic,nleft,ntop,nwidth,nheight\n",
    "\n",
    "def extract_file(csv, path, class_, n_h, n_w):\n",
    "    rows = csv.shape[0]\n",
    "    input_shape = (n_h,n_w)\n",
    "    for i in tqdm(range(0,rows)):\n",
    "        left = int(csv.iat[i,1])\n",
    "        top = int(csv.iat[i,2])\n",
    "        width = int(csv.iat[i,3])\n",
    "        height = int(csv.iat[i,4])\n",
    "        image = csv.iat[i,5]\n",
    "        o_w = csv.iat[i,6]\n",
    "        o_h = csv.iat[i,7]\n",
    "        img_array = cv2.imread(path+\"/\"+image)\n",
    "        final_img = img_array.copy()     #set the values of the array between 0 and 1\n",
    "        final_img , left,top, width ,height = resize(final_img,o_w,o_h, n_w,n_h,left,top,width,height)\n",
    "        \n",
    "        \n",
    "        #save to lists\n",
    "        classes_.append(class_)\n",
    "        left_.append(left)\n",
    "        top_.append(top)\n",
    "        width_.append(width)\n",
    "        height_.append(height)\n",
    "        confidence_.append(1)\n",
    "        arrays_.append(final_img)\n",
    "        "
   ]
  },
  {
   "cell_type": "markdown",
   "metadata": {},
   "source": [
    "### Test a random image that matches csv coordinates"
   ]
  },
  {
   "cell_type": "code",
   "execution_count": 2,
   "metadata": {},
   "outputs": [],
   "source": [
    "import pandas as pd\n",
    "import cv2\n",
    "import numpy as np\n",
    "\n",
    "csv1 = pd.read_csv(\"D:/Desktop/Facial-Recognition/Face-Detection/Politics 101/BORIS/BORIS.csv\")\n",
    "#extract_file(csv, \"D:/Desktop/Facial-Recognition/Face-Detection/Politics 101/TRUMP\" ,\"TRUMP\" )\n",
    "top = csv1.iat[4,2]\n",
    "left = csv1.iat[4,1]\n",
    "width = csv1.iat[4,3]\n",
    "height = csv1.iat[4,4]\n",
    "image = csv1.iat[4,5]\n",
    "image = cv2.imread('D:/Desktop/Facial-Recognition/Face-Detection/Politics 101/BORIS/'+image)\n",
    "\n",
    "\n",
    "\n",
    "'''Test npy files'''\n",
    "images= np.load('images.npy')\n",
    "test =np.load('labels.npy')\n",
    "i = 67\n",
    "image = images[i]\n",
    "xmin1 = test[i][0]\n",
    "xmax1 = test[i][0]+test[i][2]\n",
    "ymin1 = test[i][1]\n",
    "ymax1 = test[i][1]+test[i][3]\n",
    "\n",
    "\n",
    "cv2.rectangle(image,(xmin1,ymin1),(xmax1,ymax1),(255,0,0),2)\n",
    "cv2.imshow(\"test\",image)\n",
    "cv2.imwrite(\"test10.jpg\",image)\n",
    "cv2.waitKey(0)\n",
    "cv2.destroyAllWindows()"
   ]
  },
  {
   "cell_type": "code",
   "execution_count": null,
   "metadata": {},
   "outputs": [],
   "source": []
  }
 ],
 "metadata": {
  "kernelspec": {
   "display_name": "gpu3.6",
   "language": "python",
   "name": "gpu_python3.6"
  },
  "language_info": {
   "codemirror_mode": {
    "name": "ipython",
    "version": 3
   },
   "file_extension": ".py",
   "mimetype": "text/x-python",
   "name": "python",
   "nbconvert_exporter": "python",
   "pygments_lexer": "ipython3",
   "version": "3.6.10"
  }
 },
 "nbformat": 4,
 "nbformat_minor": 4
}
