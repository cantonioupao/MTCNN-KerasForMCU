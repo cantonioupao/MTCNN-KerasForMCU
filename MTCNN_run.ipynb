{
 "cells": [
  {
   "cell_type": "markdown",
   "metadata": {},
   "source": [
    "### Change Input Shape of Model"
   ]
  },
  {
   "cell_type": "code",
   "execution_count": 17,
   "metadata": {},
   "outputs": [
    {
     "data": {
      "text/plain": [
       "'\\noldPnet = keras.models.load_model(\"Pnet_full_model.h5\")\\nnewPnet = change_model(oldPnet , (1,500,500,3))\\nnewPnet.summary()\\n'"
      ]
     },
     "execution_count": 17,
     "metadata": {},
     "output_type": "execute_result"
    }
   ],
   "source": [
    "import keras \n",
    "def change_model (model , new_input_shape = (None,None,None,3)):\n",
    "    '''1st method'''\n",
    "    '''model.layers.pop(0)\n",
    "    newInputLayer = keras.models.Input(batch_shape= new_input_shape)\n",
    "    newOutputs = model(newInputLayer)\n",
    "    newModel = keras.models.Model(newInputLayer, newOutputs)\n",
    "    newModel.summary()\n",
    "    '''\n",
    "    \n",
    "    \n",
    "    \n",
    "    '''2nd method'''\n",
    "    model_config = model.get_config()\n",
    "    input_layer_name = model_config['layers'][0]['name']\n",
    "    model_config['layers'][0] = {\n",
    "                      'name': 'new_input',\n",
    "                      'class_name': 'InputLayer',\n",
    "                      'config': {\n",
    "                          'batch_input_shape':new_input_shape,\n",
    "                          'dtype': 'float32',\n",
    "                          'sparse': False,\n",
    "                          'name': 'new_input'\n",
    "                      },\n",
    "                      'inbound_nodes': []\n",
    "                  }\n",
    "    model_config['layers'][1]['inbound_nodes'] = [[['new_input', 0, 0, {}]]]\n",
    "    model_config['input_layers'] = [['new_input', 0, 0]]\n",
    "    \n",
    "    new_model = model.__class__.from_config(model_config,custom_objects={})\n",
    "    \n",
    "\n",
    "    #rebuild model architecture by exporting and importing via json\n",
    "    #new_model = keras.models.model_from_json(newModel.to_json())\n",
    "\n",
    "    #copy weights from old model to the new one\n",
    "    for layer in new_model.layers:\n",
    "        try:\n",
    "            layer.set_weights(model.get_layer(name=layer.name).get_weights())\n",
    "            print(\"Loaded layer {} with weights of previously loaded model\".format(layer.name))\n",
    "        except:\n",
    "            print(\"Could not transfer weight for layer {}\".format(layer.name))\n",
    "    \n",
    "    return new_model\n",
    "\n",
    "'''\n",
    "oldPnet = keras.models.load_model(\"Pnet_full_model.h5\")\n",
    "newPnet = change_model(oldPnet , (1,500,500,3))\n",
    "newPnet.summary()\n",
    "'''\n"
   ]
  },
  {
   "cell_type": "markdown",
   "metadata": {},
   "source": [
    "# Make the Pnet model"
   ]
  },
  {
   "cell_type": "code",
   "execution_count": 14,
   "metadata": {
    "scrolled": true
   },
   "outputs": [],
   "source": [
    "from keras.layers import Conv2D, Input,MaxPool2D, Reshape,Activation,Flatten, Dense, Permute\n",
    "from keras.models import Model, Sequential\n",
    "from keras.layers.advanced_activations import PReLU\n",
    "import numpy as np\n",
    "import cv2\n",
    "import tools_matrix as tools\n",
    "\n",
    "def create_Pnet(weight, height , weight_path = 'model12old.h5'):\n",
    "    input = Input(shape=[weight, height, 3])\n",
    "    x = Conv2D(10, (3, 3), strides=1, padding='valid', name='conv1')(input)\n",
    "    x = PReLU(shared_axes=[1,2],name='PReLU1')(x)\n",
    "    x = MaxPool2D(pool_size=2)(x)\n",
    "    x = Conv2D(16, (3, 3), strides=1, padding='valid', name='conv2')(x)\n",
    "    x = PReLU(shared_axes=[1,2],name='PReLU2')(x)\n",
    "    x = Conv2D(32, (3, 3), strides=1, padding='valid', name='conv3')(x)\n",
    "    x = PReLU(shared_axes=[1,2],name='PReLU3')(x)\n",
    "    classifier = Conv2D(2, (1, 1), activation='softmax', name='conv4-1')(x)\n",
    "    #bbox_regress = Conv2D(4, (1, 1), name='conv4-2')(x)\n",
    "    model = Model([input], [classifier])#,bbox_regress])\n",
    "    model.load_weights(weight_path, by_name=True)\n",
    "    return model\n",
    "\n",
    "w = 27\n",
    "h = 27\n",
    "Pnet = create_Pnet(w,h,r'12net.h5')\n",
    "Pnet.save(\"Pnet_full_model.h5\")"
   ]
  },
  {
   "cell_type": "markdown",
   "metadata": {},
   "source": [
    "### Pnet Summary"
   ]
  },
  {
   "cell_type": "code",
   "execution_count": 10,
   "metadata": {},
   "outputs": [
    {
     "name": "stdout",
     "output_type": "stream",
     "text": [
      "_________________________________________________________________\n",
      "Layer (type)                 Output Shape              Param #   \n",
      "=================================================================\n",
      "input_9 (InputLayer)         (None, 35, 35, 3)         0         \n",
      "_________________________________________________________________\n",
      "conv1 (Conv2D)               (None, 33, 33, 10)        280       \n",
      "_________________________________________________________________\n",
      "PReLU1 (PReLU)               (None, 33, 33, 10)        10        \n",
      "_________________________________________________________________\n",
      "max_pooling2d_9 (MaxPooling2 (None, 16, 16, 10)        0         \n",
      "_________________________________________________________________\n",
      "conv2 (Conv2D)               (None, 14, 14, 16)        1456      \n",
      "_________________________________________________________________\n",
      "PReLU2 (PReLU)               (None, 14, 14, 16)        16        \n",
      "_________________________________________________________________\n",
      "conv3 (Conv2D)               (None, 12, 12, 32)        4640      \n",
      "_________________________________________________________________\n",
      "PReLU3 (PReLU)               (None, 12, 12, 32)        32        \n",
      "_________________________________________________________________\n",
      "conv4-1 (Conv2D)             (None, 12, 12, 2)         66        \n",
      "=================================================================\n",
      "Total params: 6,500\n",
      "Trainable params: 6,500\n",
      "Non-trainable params: 0\n",
      "_________________________________________________________________\n"
     ]
    },
    {
     "name": "stderr",
     "output_type": "stream",
     "text": [
      "D:\\Conda Installation\\envs\\gpu_python3.6\\lib\\site-packages\\keras\\models.py:255: UserWarning: No training configuration found in save file: the model was *not* compiled. Compile it manually.\n",
      "  warnings.warn('No training configuration found in save file: '\n"
     ]
    }
   ],
   "source": [
    "import keras\n",
    "\n",
    "model = keras.models.load_model(\"Pnet_full_model.h5\")\n",
    "model.summary()"
   ]
  },
  {
   "cell_type": "markdown",
   "metadata": {},
   "source": [
    "# Make the Rnet Model"
   ]
  },
  {
   "cell_type": "code",
   "execution_count": 10,
   "metadata": {},
   "outputs": [],
   "source": [
    "from keras.layers import Conv2D, Input,MaxPool2D, Reshape,Activation,Flatten, Dense, Permute\n",
    "from keras.models import Model, Sequential\n",
    "from keras.layers.advanced_activations import PReLU\n",
    "import numpy as np\n",
    "import cv2\n",
    "import tools_matrix as tools\n",
    "def create_Rnet (weight_path = 'model24.h5'):\n",
    "    input = Input(shape=[24, 24, 3])  # change this shape to [None,None,3] to enable arbitraty shape input\n",
    "    x = Conv2D(28, (3, 3), strides=1, padding='valid', name='conv1')(input)\n",
    "    x = PReLU(shared_axes=[1, 2], name='prelu1')(x)\n",
    "    x = MaxPool2D(pool_size=3,strides=2, padding='same')(x)\n",
    "\n",
    "    x = Conv2D(48, (3, 3), strides=1, padding='valid', name='conv2')(x)\n",
    "    x = PReLU(shared_axes=[1, 2], name='prelu2')(x)\n",
    "    x = MaxPool2D(pool_size=3, strides=2)(x)\n",
    "\n",
    "    x = Conv2D(64, (2, 2), strides=1, padding='valid', name='conv3')(x)\n",
    "    x = PReLU(shared_axes=[1, 2], name='prelu3')(x)\n",
    "    x = Permute((3, 2, 1))(x)\n",
    "    x = Flatten()(x)\n",
    "    x = Dense(128, name='conv4')(x)\n",
    "    x = PReLU( name='prelu4')(x)\n",
    "    classifier = Dense(2, activation='softmax', name='conv5-1')(x)\n",
    "    bbox_regress = Dense(4, name='conv5-2')(x)\n",
    "    model = Model([input], [classifier, bbox_regress])\n",
    "    model.load_weights(weight_path, by_name=True)\n",
    "    return model\n",
    "\n",
    "\n",
    "Rnet = create_Rnet(r'24net.h5')\n",
    "Rnet.save(\"Rnet_full_model.h5\")"
   ]
  },
  {
   "cell_type": "markdown",
   "metadata": {},
   "source": [
    "### Rnet Summary"
   ]
  },
  {
   "cell_type": "code",
   "execution_count": 11,
   "metadata": {},
   "outputs": [
    {
     "name": "stdout",
     "output_type": "stream",
     "text": [
      "__________________________________________________________________________________________________\n",
      "Layer (type)                    Output Shape         Param #     Connected to                     \n",
      "==================================================================================================\n",
      "input_10 (InputLayer)           (None, 24, 24, 3)    0                                            \n",
      "__________________________________________________________________________________________________\n",
      "conv1 (Conv2D)                  (None, 22, 22, 28)   784         input_10[0][0]                   \n",
      "__________________________________________________________________________________________________\n",
      "prelu1 (PReLU)                  (None, 22, 22, 28)   28          conv1[0][0]                      \n",
      "__________________________________________________________________________________________________\n",
      "max_pooling2d_20 (MaxPooling2D) (None, 11, 11, 28)   0           prelu1[0][0]                     \n",
      "__________________________________________________________________________________________________\n",
      "conv2 (Conv2D)                  (None, 9, 9, 48)     12144       max_pooling2d_20[0][0]           \n",
      "__________________________________________________________________________________________________\n",
      "prelu2 (PReLU)                  (None, 9, 9, 48)     48          conv2[0][0]                      \n",
      "__________________________________________________________________________________________________\n",
      "max_pooling2d_21 (MaxPooling2D) (None, 4, 4, 48)     0           prelu2[0][0]                     \n",
      "__________________________________________________________________________________________________\n",
      "conv3 (Conv2D)                  (None, 3, 3, 64)     12352       max_pooling2d_21[0][0]           \n",
      "__________________________________________________________________________________________________\n",
      "prelu3 (PReLU)                  (None, 3, 3, 64)     64          conv3[0][0]                      \n",
      "__________________________________________________________________________________________________\n",
      "permute_6 (Permute)             (None, 64, 3, 3)     0           prelu3[0][0]                     \n",
      "__________________________________________________________________________________________________\n",
      "flatten_6 (Flatten)             (None, 576)          0           permute_6[0][0]                  \n",
      "__________________________________________________________________________________________________\n",
      "conv4 (Dense)                   (None, 128)          73856       flatten_6[0][0]                  \n",
      "__________________________________________________________________________________________________\n",
      "prelu4 (PReLU)                  (None, 128)          128         conv4[0][0]                      \n",
      "__________________________________________________________________________________________________\n",
      "conv5-1 (Dense)                 (None, 2)            258         prelu4[0][0]                     \n",
      "__________________________________________________________________________________________________\n",
      "conv5-2 (Dense)                 (None, 4)            516         prelu4[0][0]                     \n",
      "==================================================================================================\n",
      "Total params: 100,178\n",
      "Trainable params: 100,178\n",
      "Non-trainable params: 0\n",
      "__________________________________________________________________________________________________\n"
     ]
    },
    {
     "name": "stderr",
     "output_type": "stream",
     "text": [
      "D:\\Conda Installation\\envs\\gpu_python3.6\\lib\\site-packages\\keras\\models.py:255: UserWarning: No training configuration found in save file: the model was *not* compiled. Compile it manually.\n",
      "  warnings.warn('No training configuration found in save file: '\n"
     ]
    }
   ],
   "source": [
    "import keras\n",
    "model = keras.models.load_model(\"Rnet_full_model.h5\")\n",
    "model.summary()"
   ]
  },
  {
   "cell_type": "markdown",
   "metadata": {},
   "source": [
    "# Make the Onet Model"
   ]
  },
  {
   "cell_type": "code",
   "execution_count": 2,
   "metadata": {},
   "outputs": [
    {
     "name": "stdout",
     "output_type": "stream",
     "text": [
      "WARNING:tensorflow:From D:\\Conda Installation\\envs\\gpu_python3.6\\lib\\site-packages\\keras\\backend\\tensorflow_backend.py:167: The name tf.get_default_session is deprecated. Please use tf.compat.v1.get_default_session instead.\n",
      "\n",
      "WARNING:tensorflow:From D:\\Conda Installation\\envs\\gpu_python3.6\\lib\\site-packages\\keras\\backend\\tensorflow_backend.py:174: The name tf.ConfigProto is deprecated. Please use tf.compat.v1.ConfigProto instead.\n",
      "\n"
     ]
    }
   ],
   "source": [
    "from keras.layers import Conv2D, Input,MaxPool2D, Reshape,Activation,Flatten, Dense, Permute\n",
    "from keras.models import Model, Sequential\n",
    "from keras.layers.advanced_activations import PReLU\n",
    "import numpy as np\n",
    "import cv2\n",
    "import tools_matrix as tools\n",
    "def create_Onet( weight_path = 'model48.h5'):\n",
    "    input = Input(shape = [48,48,3])\n",
    "    x = Conv2D(32, (3, 3), strides=1, padding='valid', name='conv1')(input)\n",
    "    x = PReLU(shared_axes=[1,2],name='prelu1')(x)\n",
    "    x = MaxPool2D(pool_size=3, strides=2, padding='same')(x)\n",
    "    x = Conv2D(64, (3, 3), strides=1, padding='valid', name='conv2')(x)\n",
    "    x = PReLU(shared_axes=[1,2],name='prelu2')(x)\n",
    "    x = MaxPool2D(pool_size=3, strides=2)(x)\n",
    "    x = Conv2D(64, (3, 3), strides=1, padding='valid', name='conv3')(x)\n",
    "    x = PReLU(shared_axes=[1,2],name='prelu3')(x)\n",
    "    x = MaxPool2D(pool_size=2)(x)\n",
    "    x = Conv2D(128, (2, 2), strides=1, padding='valid', name='conv4')(x)\n",
    "    x = PReLU(shared_axes=[1,2],name='prelu4')(x)\n",
    "    x = Permute((3,2,1))(x)\n",
    "    x = Flatten()(x)\n",
    "    x = Dense(256, name='conv5') (x)\n",
    "    x = PReLU(name='prelu5')(x)\n",
    "\n",
    "    #classifier = Dense(2, activation='softmax',name='conv6-1')(x)\n",
    "    bbox_regress = Dense(4,name='conv6-2')(x)\n",
    "    #landmark_regress = Dense(10,name='conv6-3')(x)\n",
    "    model = Model([input], [bbox_regress])#classifier, bbox_regress, landmark_regress])#, landmark_regress])\n",
    "    model.load_weights(weight_path, by_name=True)\n",
    "\n",
    "    return model\n",
    "\n",
    "\n",
    "Rnet = create_Onet(r'48net.h5')\n",
    "Rnet.save(\"Onet_full_model.h5\")"
   ]
  },
  {
   "cell_type": "markdown",
   "metadata": {},
   "source": [
    "### Onet Summary"
   ]
  },
  {
   "cell_type": "code",
   "execution_count": 53,
   "metadata": {},
   "outputs": [
    {
     "name": "stdout",
     "output_type": "stream",
     "text": [
      "_________________________________________________________________\n",
      "Layer (type)                 Output Shape              Param #   \n",
      "=================================================================\n",
      "input_40 (InputLayer)        (None, 48, 48, 3)         0         \n",
      "_________________________________________________________________\n",
      "conv1 (Conv2D)               (None, 46, 46, 32)        896       \n",
      "_________________________________________________________________\n",
      "prelu1 (PReLU)               (None, 46, 46, 32)        32        \n",
      "_________________________________________________________________\n",
      "max_pooling2d_68 (MaxPooling (None, 23, 23, 32)        0         \n",
      "_________________________________________________________________\n",
      "conv2 (Conv2D)               (None, 21, 21, 64)        18496     \n",
      "_________________________________________________________________\n",
      "prelu2 (PReLU)               (None, 21, 21, 64)        64        \n",
      "_________________________________________________________________\n",
      "max_pooling2d_69 (MaxPooling (None, 10, 10, 64)        0         \n",
      "_________________________________________________________________\n",
      "conv3 (Conv2D)               (None, 8, 8, 64)          36928     \n",
      "_________________________________________________________________\n",
      "prelu3 (PReLU)               (None, 8, 8, 64)          64        \n",
      "_________________________________________________________________\n",
      "max_pooling2d_70 (MaxPooling (None, 4, 4, 64)          0         \n",
      "_________________________________________________________________\n",
      "conv4 (Conv2D)               (None, 3, 3, 128)         32896     \n",
      "_________________________________________________________________\n",
      "prelu4 (PReLU)               (None, 3, 3, 128)         128       \n",
      "_________________________________________________________________\n",
      "permute_15 (Permute)         (None, 128, 3, 3)         0         \n",
      "_________________________________________________________________\n",
      "flatten_15 (Flatten)         (None, 1152)              0         \n",
      "_________________________________________________________________\n",
      "conv5 (Dense)                (None, 256)               295168    \n",
      "_________________________________________________________________\n",
      "prelu5 (PReLU)               (None, 256)               256       \n",
      "_________________________________________________________________\n",
      "conv6-2 (Dense)              (None, 4)                 1028      \n",
      "=================================================================\n",
      "Total params: 385,956\n",
      "Trainable params: 385,956\n",
      "Non-trainable params: 0\n",
      "_________________________________________________________________\n"
     ]
    }
   ],
   "source": [
    "import keras\n",
    "model = keras.models.load_model(\"Onet_full_model.h5\")\n",
    "model.summary()"
   ]
  },
  {
   "cell_type": "code",
   "execution_count": null,
   "metadata": {},
   "outputs": [],
   "source": []
  }
 ],
 "metadata": {
  "kernelspec": {
   "display_name": "gpu3.6",
   "language": "python",
   "name": "gpu_python3.6"
  },
  "language_info": {
   "codemirror_mode": {
    "name": "ipython",
    "version": 3
   },
   "file_extension": ".py",
   "mimetype": "text/x-python",
   "name": "python",
   "nbconvert_exporter": "python",
   "pygments_lexer": "ipython3",
   "version": "3.6.10"
  }
 },
 "nbformat": 4,
 "nbformat_minor": 4
}
